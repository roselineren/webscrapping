{
 "cells": [
  {
   "cell_type": "code",
   "execution_count": 1,
   "metadata": {},
   "outputs": [
    {
     "name": "stdout",
     "output_type": "stream",
     "text": [
      "Defaulting to user installation because normal site-packages is not writeable\n",
      "Requirement already satisfied: requests in c:\\programdata\\miniconda3\\lib\\site-packages (2.29.0)\n",
      "Collecting beautifulsoup4\n",
      "  Using cached beautifulsoup4-4.12.2-py3-none-any.whl (142 kB)\n",
      "Requirement already satisfied: charset-normalizer<4,>=2 in c:\\programdata\\miniconda3\\lib\\site-packages (from requests) (2.0.4)\n",
      "Requirement already satisfied: idna<4,>=2.5 in c:\\programdata\\miniconda3\\lib\\site-packages (from requests) (3.4)\n",
      "Requirement already satisfied: urllib3<1.27,>=1.21.1 in c:\\programdata\\miniconda3\\lib\\site-packages (from requests) (1.26.16)\n",
      "Requirement already satisfied: certifi>=2017.4.17 in c:\\programdata\\miniconda3\\lib\\site-packages (from requests) (2023.5.7)\n",
      "Requirement already satisfied: soupsieve>1.2 in c:\\users\\sraps\\appdata\\roaming\\python\\python311\\site-packages (from beautifulsoup4) (2.5)\n",
      "Installing collected packages: beautifulsoup4\n",
      "Successfully installed beautifulsoup4-4.12.2\n",
      "Note: you may need to restart the kernel to use updated packages.\n"
     ]
    }
   ],
   "source": [
    "#pip install requests beautifulsoup4\n"
   ]
  },
  {
   "cell_type": "code",
   "execution_count": 1,
   "metadata": {},
   "outputs": [],
   "source": [
    "import requests\n",
    "page = requests.get(\"https://yuka.io/fruits-legumes/janvier/\")\n"
   ]
  },
  {
   "cell_type": "code",
   "execution_count": 2,
   "metadata": {},
   "outputs": [],
   "source": [
    "from bs4 import BeautifulSoup\n",
    "soup = BeautifulSoup(page.content, 'html.parser')\n"
   ]
  },
  {
   "cell_type": "code",
   "execution_count": 3,
   "metadata": {},
   "outputs": [
    {
     "name": "stdout",
     "output_type": "stream",
     "text": [
      "Pour bien commencer l’année, il est important de faire le plein de vitamines et d’antioxydants ! Pour cela une alimentation de saison est essentielle pour aider le corps à se remettre des fêtes et attaquer la nouvelle année en pleine forme ! Voici notre liste des fruits et légumes phares de janvier.\n",
      "La clémentine est très riche en vitamine C, qui a une action antioxydante importante et contribue ainsi à protéger notre organisme du vieillissement prématuré des cellules.\n",
      "La grenade est en tête de liste des antioxydants, et notamment le jus de grenade, dont la capacité antioxydante serait supérieure à celle du thé vert et du vin rouge. On peut trouver des grenades originaires du sud de la France.\n",
      "Le kaki est source de fibres et possède aussi des caroténoïdes, aux propriétés antioxydantes, qui lui confèrent sa belle couleur.\n",
      "Le kiwi est le champion de la vitamine C : 2 kiwis couvrent 100 % des besoins quotidiens en vitamine C chez l’adulte.\n",
      "La mandarine contient une quantité importante de vitamine C. Au-delà de son action antioxydante, la vitamine C contribue aux défenses immunitaires et facilite l’absorption du fer.\n",
      "L’orange, tout comme la clémentine et la mandarine, est riche en vitamine C, une vitamine importante en hiver pour stimuler les défenses immunitaires.\n",
      "La poire d’automne / hiver , comme la Conférence ou la Comice, concentre de précieux antioxydants dans sa pelure. Privilégiez les poires biologiques car les pesticides se concentrent eux aussi dans la peau.\n",
      "La pomme, tout comme la poire, concentre de précieux antioxydants dans sa pelure et est donc à choisir biologique car il s’agit de l’un des fruits les plus traités.\n",
      "La carotte est une source importante de caroténoïdes, des composés qui lui donnent sa belle couleur orange, et qui sont bénéfiques pour la protection des cellules.\n",
      "Le céleri rave a des propriétés anti-inflammatoires et joue une action dans la prévention du cancer grâce à sa teneur en flavonoïdes.\n",
      "Les choux de Bruxelles sont riches en vitamine C et en calcium. Le calcium issu des choux de Bruxelles est par ailleurs très bien absorbé par l’organisme.\n",
      "Le chou-fleur est riche en glucosinolates, des substances que l’on retrouve dans les légumes crucifères et qui ont rôle protecteur contre le cancer grâce à leur capacité d’aider le foie à éliminer les substances toxiques.\n",
      "Le chou vert est, comme son cousin le chou-fleur, riche en glucosinolates. Il contient aussi des quantités intéressantes de vitamine C.\n",
      "La courge butternut est, comme la carotte et l’ensemble des courges, riche en caroténoïdes. Son petit goût de noisette est appréciable dans des plats salés aussi bien que sucrés (tartes par exemple).\n",
      "L’endive contient de l’acide chicorique – un composé aux propriétés antioxydantes – ainsi que de la vitamine A, B9 et K.\n",
      "L’épinard est riche en béta-carotène, qui a une action bénéfique sur la santé des yeux. Il a également un fort pouvoir antioxydant ce qui l’implique dans la prévention du cancer.\n",
      "La mâche est riche en antioxydants grâce à sa teneur élevée en bêta-carotène. Elle contient aussi de la vitamine B9 et du fer.\n",
      "Le navet est riche en vitamines, notamment en vitamine C, B9 et B6. Il est également source de calcium et de potassium, nécessaires à la bonne santé des os.\n",
      "Le panais est un légume ancien, cousin de la carotte, qui est très riche en fibres. Il contient aussi de l’apigénine et des polyacétylènes, des antioxydants qui jouent un rôle dans la prévention du cancer.\n",
      "Le poireau fait partie de la même famille que l’ail et l’oignon. Le poireau est très riche en fibres et en potassium.\n",
      "Le potiron est riche en caroténoïdes, des antioxydants bénéfiques dans la prévention de nombreuses maladies. Ses graines ont aussi de nombreux bienfaits !\n",
      "Le radis noir aide le foie dans ses fonctions « detox » : il favorise la sécrétion de bile, qui va avoir pour rôle d’éliminer les composés toxiques après leur dégradation.\n",
      "Le rutabaga, qui ressemble au navet, se cuisine comme la pomme de terre. Il peut par exemple être servi en purée. C’est une source intéressante de vitamine C et de potassium.\n",
      "Le salsifis contient de l’inuline, un type de fibres qui exerce une action bénéfique sur le développement de la flore intestinale et sur son équilibre.\n",
      "Le topinambour est riche en inuline, qui possède une action bénéfique sur le développement de la flore intestinale et sur son équilibre. C’est aussi une très bonne source de potassium.\n",
      "Respecter la saisonnalité, c'est important pour notre santé, pour la planète, mais aussi pour le goût. Yuka a réalisé un calendrier à accrocher dans sa cuisine afin de consommer toute l'année les fruits & légumes du moment. Ce calendrier contribue à soutenir financièrement le projet.\n",
      "Commander • 14.90€\n",
      "Votre adresse e-mail ne sera pas publiée. Les champs obligatoires sont indiqués avec *\n",
      "Commentaire * \n",
      "Prénom\n",
      "Adresse email\n",
      " \n",
      "\n",
      "\n",
      "\n",
      "Δ\n",
      "très cool je recherche une période de légume en janvier pour un projet de vente au lycée et sa ma beaucoup aider merci !!\n",
      "Merci 😍\n",
      "merci!\n",
      "Je cherche une recette à faire avec du céleri rave, puis-je en trouver une sur le blog ?\n",
      "Meilleurs vœux à tous\n",
      "Merci beaucoup. Que le tout puissant vous benisse.\n",
      "Bonjour Je voudrais acheter votre calendrier par courrier ; pouvez vous me laisser une adresse postale et je vous enverrai un cheque.\n",
      "Merci d’avance.\n",
      "Solange Beasse\n",
      "Merci beaucoup pour tout\n",
      "BRAVO MERCI C’EST SUPER\n",
      "Je voudrais acheter le calendrier mais je ne peux pas me permettre de faire cette opération sur mon téléphone mon ordinateur étant en panne et je n’ai pas de tablette merci de m indiquer si vous avez un autre moyen de me  le faire parvenir moyennant un virement ou un chèque ou un contte remboursement\n",
      "Bonsoir Yasmine\n",
      "En cliquant sur – menu puis blog – vous auriez pu lire le mois de février, et les nouvelles recettes.\n",
      "Cordialement\n",
      "Bonjour\n",
      "Votre livre est très intéressant et les recettes originales : j’en ai confectionné déjà plusieurs, délicieuses , avec un coup de cœur ( et de palais ! ) pour les lasagnes potiron brocoli,  la quiche aubergines fêta et les énergy balls cacao. Grand merci\n",
      "Un grand merci à toute l’équipe de yuka qui m’aide à manger mieux\n",
      "Bonjour\n",
      "Merci beaucoup\n",
      "Bonjour Bonne année à vous tous je voulais savoir si vous faite un plan régime svp je suis en surpoids merci a vous\n",
      "Merci beaucoup pour la liste des fruits et légumes de janvier .\n",
      "Je trouve ça très bien avec les caractéristiques et les bienfaits de chacun.\n",
      "Belle année à toute l’equipe .\n",
      "Merci 🙏\n",
      "Merci\n",
      "Je suis contente de constater que je consomme au moins 80 de ces fruits et légumes\n",
      "Merci vous êtes une super équipe. J’adore vos bons conseils et le site est très intéressant. On découvre de belles idées et d’excellents fruits et légumes… Continuez ainsi… Good Luck!!\n",
      "Bonjour….très belle Année  à toute l’équipe..merci de m’envoyer  votre adresse postal que je puisse y joindre mon chèque pour l’achat  de votre calendrier. 😃\n",
      "Merci et à très vite\n",
      "Merci à toute l’équipe pour ces précieux renseignements sur les bienfaits des fruits et légumes ça donne envie de les consommer  Bravo bon travail\n",
      "Bonne à vous. J aime 👍 😍\n",
      "Meilleurs vœux Julie et à toute l équipe\n",
      "Bonne Année.\n",
      "Merci pour ces précieux conseils\n",
      "Très intéressant, merci.\n",
      "Meilleurs vœux.\n",
      "Un grand merci à  toute votre équipe !  de nous informer des bienfaits de ces fruits et légumes en période hivernale.\n",
      "Nous vous suivons avec intérêt.\n",
      "« Bonne Année » à vous tous!\n",
      "Christiane\n",
      "Merci de votre travail bienveillant, enthousiaste et de vos voeux, bonne année à toute l’équipe 😉\n",
      "J’ai acheté votre livre que je trouve vraiment bien et clair 😉 merci\n",
      "Avant, je ne me fiais qu’au livre « nos grands-mères s’avaient », maintenant vous prenez la relève à votre manière, plus proche, plus présent de nous selon notre époque et l’actualité , c’est rafraichissant et encourageant.\n",
      "Continuez à prendre plaisir à ce que vous faites = nous aussi on y prend plaisir 😉\n",
      "Merci pour toutes ces informations. Très belle année à tous.\n",
      "Bonne et heureuse année à tous pour 2021 merci à toute l équipes pour tous c est renseignements sur ses fruits et légumes merci merci\n",
      "Une très bonne année à votre équipe ! Je suis complètement addict à votre appli…je n’achète quasiment plus rien sans scanner le code barre de manière à suivre vos conseils.\n",
      "Bonne année à toute l équipe merci pour les bons conseils\n",
      "Meilleurs vœux à  toute l’équipe  et merci pour toutes ces informations   très utiles\n",
      "Bonjour Julie et toute l’équipe de YUKA\n",
      "Je profite du nouvel an pour vous souhaiter une bonne et heureuse année 2021 malgré les contraintes que ce virus nous oblige à tenir\n",
      "Je suis très satisfaite de YUKA c’est fièrement que je l’utilise dans les magasins\n",
      "Merci je vous remercie de tout cœur grâce à YUKA je sais ce que je mange BRAVO YUKA JE T’AIME\n",
      "Bonjour Julie,\n",
      "Merci pour vos vœux et recevez les miens : santé, bonheur et gaieté.\n",
      "Bravo pour vos conseils si pertinents.\n",
      "Prenez soin de vous et toute l’équipe.\n",
      "Bonjours Julie, si vous m’envoyer une adresse postale, je vous envoi 📤 en retour un chèque pour l’achat du calendrier que vous voudrez bien m’expédier par la poste !\n",
      "Avec mes remerciements !\n",
      "Et bonne année à vous et toute votre équipe 😘\n",
      "Bonsoir Julie, je ne comprends pas, je ne peux plus scanner les QR codes et quand je mets mon adresse mail et mot de passe oublié,  je ne reçois pas le courrier avec le nouveau mot de passe !\n",
      "Je suis bien déçue.  Merci de votre attention et réponse.\n",
      "Cecile\n",
      "Merci et bonne année 2021 à toute l équipe ainsi qu à tous les adhérents 😊 merci yuka pour la bonne idée du calendrier. Je l attend avec impatience.\n"
     ]
    }
   ],
   "source": [
    "paragraphs = soup.find_all('p')\n",
    "for p in paragraphs:\n",
    "    print(p.get_text())\n"
   ]
  },
  {
   "cell_type": "code",
   "execution_count": 4,
   "metadata": {},
   "outputs": [
    {
     "name": "stdout",
     "output_type": "stream",
     "text": [
      "{'La clémentine': 'https://yuka.io/wp-content/uploads/clémentine-fruit-saison.png', 'La grenade': 'https://yuka.io/wp-content/uploads/grenade-fruit-saison.png', 'Le kaki': 'https://yuka.io/wp-content/uploads/kaki-fruit-saison.png', 'Le kiwi': 'https://yuka.io/wp-content/uploads/kiwi-fruit-saison.png', 'La mandarine': 'https://yuka.io/wp-content/uploads/mandarine-fruit-saison.png', 'L’orange': 'https://yuka.io/wp-content/uploads/orange-fruit-saison.png', 'La poire d’automne / hiver': 'https://yuka.io/wp-content/uploads/poire-fruit-saison-1.png', 'La pomme': 'https://yuka.io/wp-content/uploads/pomme-fruit-saison.png', 'La carotte': 'https://yuka.io/wp-content/uploads/carotte-legume-saison.png', 'Le céleri rave': 'https://yuka.io/wp-content/uploads/celeri-rave-legume-saison.png', 'Les choux de Bruxelles': 'https://yuka.io/wp-content/uploads/choux-de-bruxelles-legume-saison.png', 'Le chou-fleur': 'https://yuka.io/wp-content/uploads/chou-fleur-legume-saison.png', 'Le chou vert': 'https://yuka.io/wp-content/uploads/chou-vert-legume-saison.png', 'La courge butternut': 'https://yuka.io/wp-content/uploads/courge-butternut-legume-saison.png', 'L’endive': 'https://yuka.io/wp-content/uploads/endive-legume-saison.png', 'L’épinard': 'https://yuka.io/wp-content/uploads/epinard-legume-saison-1.png', 'La mâche': 'https://yuka.io/wp-content/uploads/mache-legume-saison.png', 'Le navet': 'https://yuka.io/wp-content/uploads/navet-legume-saison.png', 'Le panais': 'https://yuka.io/wp-content/uploads/panais-legume-saison.png', 'Le poireau': 'https://yuka.io/wp-content/uploads/poireau-legume-saison.png', 'Le potiron': 'https://yuka.io/wp-content/uploads/potiron-legume-saison-1.png', 'Le radis noir': 'https://yuka.io/wp-content/uploads/radis-noir-legume-saison.png', 'Le rutabaga': 'https://yuka.io/wp-content/uploads/rutabaga-legume-saison.png', 'Le salsifis': 'https://yuka.io/wp-content/uploads/salsifi-legume-saison.png', 'Le topinambour': 'https://yuka.io/wp-content/uploads/topinambour-legume-saison.png'}\n"
     ]
    }
   ],
   "source": [
    "\n",
    "fruit_divs = soup.find_all(\"div\", class_=\"wp-block-media-text\")\n",
    "fruits = {}\n",
    "\n",
    "for div in fruit_divs:\n",
    "    fruit_name = div.find(\"strong\").text.strip()\n",
    "    fruits[fruit_name] = div.find(\"img\")[\"src\"]\n",
    "\n",
    "print(fruits)"
   ]
  },
  {
   "cell_type": "code",
   "execution_count": 6,
   "metadata": {},
   "outputs": [
    {
     "name": "stdout",
     "output_type": "stream",
     "text": [
      "{'La clémentine': 'https://yuka.io/wp-content/uploads/clémentine-fruit-saison.png', 'La grenade': 'https://yuka.io/wp-content/uploads/grenade-fruit-saison.png', 'Le kaki': 'https://yuka.io/wp-content/uploads/kaki-fruit-saison.png', 'Le kiwi': 'https://yuka.io/wp-content/uploads/kiwi-fruit-saison.png', 'La mandarine': 'https://yuka.io/wp-content/uploads/mandarine-fruit-saison.png', 'L’orange': 'https://yuka.io/wp-content/uploads/orange-fruit-saison.png', 'La poire d’automne / hiver': 'https://yuka.io/wp-content/uploads/poire-fruit-saison-1.png', 'La pomme': 'https://yuka.io/wp-content/uploads/pomme-fruit-saison.png', 'La carotte': 'https://yuka.io/wp-content/uploads/carotte-legume-saison.png', 'Le céleri rave': 'https://yuka.io/wp-content/uploads/celeri-rave-legume-saison.png', 'Les choux de Bruxelles': 'https://yuka.io/wp-content/uploads/choux-de-bruxelles-legume-saison.png', 'Le chou-fleur': 'https://yuka.io/wp-content/uploads/chou-fleur-legume-saison.png', 'Le chou vert': 'https://yuka.io/wp-content/uploads/chou-vert-legume-saison.png', 'La courge butternut': 'https://yuka.io/wp-content/uploads/courge-butternut-legume-saison.png', 'L’endive': 'https://yuka.io/wp-content/uploads/endive-legume-saison.png', 'L’épinard': 'https://yuka.io/wp-content/uploads/epinard-legume-saison-1.png', 'La mâche': 'https://yuka.io/wp-content/uploads/mache-legume-saison.png', 'Le navet': 'https://yuka.io/wp-content/uploads/navet-legume-saison.png', 'Le panais': 'https://yuka.io/wp-content/uploads/panais-legume-saison.png', 'Le poireau': 'https://yuka.io/wp-content/uploads/poireau-legume-saison.png', 'Le potiron': 'https://yuka.io/wp-content/uploads/potiron-legume-saison-1.png', 'Le radis noir': 'https://yuka.io/wp-content/uploads/radis-noir-legume-saison.png', 'Le rutabaga': 'https://yuka.io/wp-content/uploads/rutabaga-legume-saison.png', 'Le salsifis': 'https://yuka.io/wp-content/uploads/salsifi-legume-saison.png', 'Le topinambour': 'https://yuka.io/wp-content/uploads/topinambour-legume-saison.png'}\n",
      "{'La clémentine': 'https://yuka.io/wp-content/uploads/clémentine-fruit-saison.png', 'La grenade': 'https://yuka.io/wp-content/uploads/grenade-fruit-saison.png', 'Le kiwi': 'https://yuka.io/wp-content/uploads/kiwi-fruit-saison.png', 'La mandarine': 'https://yuka.io/wp-content/uploads/mandarine-fruit-saison.png', 'L’orange': 'https://yuka.io/wp-content/uploads/orange-fruit-saison.png', 'La poire d’automne / hiver': 'https://yuka.io/wp-content/uploads/poire-fruit-saison-1.png', 'La pomme': 'https://yuka.io/wp-content/uploads/pomme-fruit-saison.png', 'La carotte': 'https://yuka.io/wp-content/uploads/carotte-legume-saison.png', 'Le céleri rave': 'https://yuka.io/wp-content/uploads/celeri-rave-legume-saison.png', 'Les choux de Bruxelles': 'https://yuka.io/wp-content/uploads/choux-de-bruxelles-legume-saison.png', 'Le chou-fleur': 'https://yuka.io/wp-content/uploads/chou-fleur-legume-saison.png', 'Le chou vert': 'https://yuka.io/wp-content/uploads/chou-vert-legume-saison.png', 'L’endive': 'https://yuka.io/wp-content/uploads/endive-legume-saison.png', 'L’épinard': 'https://yuka.io/wp-content/uploads/epinard-legume-saison-1.png', 'La mâche': 'https://yuka.io/wp-content/uploads/mache-legume-saison.png', 'Le navet': 'https://yuka.io/wp-content/uploads/navet-legume-saison.png', 'Le panais': 'https://yuka.io/wp-content/uploads/panais-legume-saison.png', 'Le poireau': 'https://yuka.io/wp-content/uploads/poireau-legume-saison.png', 'Le radis noir': 'https://yuka.io/wp-content/uploads/radis-noir-legume-saison.png', 'Le rutabaga': 'https://yuka.io/wp-content/uploads/rutabaga-legume-saison.png', 'Le salsifis': 'https://yuka.io/wp-content/uploads/salsifi-legume-saison.png', 'Le topinambour': 'https://yuka.io/wp-content/uploads/topinambour-legume-saison.png'}\n",
      "{'Le kiwi': 'https://yuka.io/wp-content/uploads/kiwi-fruit-saison.png', 'L’orange': 'https://yuka.io/wp-content/uploads/orange-fruit-saison.png', 'La poire d’automne / hiver': 'https://yuka.io/wp-content/uploads/poire-fruit-saison-1.png', 'La pomme': 'https://yuka.io/wp-content/uploads/pomme-fruit-saison.png', 'La carotte': 'https://yuka.io/wp-content/uploads/carotte-legume-saison.png', 'Le céleri rave': 'https://yuka.io/wp-content/uploads/celeri-rave-legume-saison.png', 'Le chou vert': 'https://yuka.io/wp-content/uploads/chou-vert-legume-saison.png', 'Le chou-fleur': 'https://yuka.io/wp-content/uploads/chou-fleur-legume-saison.png', 'L’endive': 'https://yuka.io/wp-content/uploads/endive-legume-saison.png', 'L’épinard': 'https://yuka.io/wp-content/uploads/epinard-legume-saison-1.png', 'La mâche': 'https://yuka.io/wp-content/uploads/mache-legume-saison.png', 'Le navet': 'https://yuka.io/wp-content/uploads/navet-legume-saison.png', 'Le panais': 'https://yuka.io/wp-content/uploads/panais-legume-saison.png', 'Le poireau': 'https://yuka.io/wp-content/uploads/poireau-legume-saison.png', 'Le radis noir': 'https://yuka.io/wp-content/uploads/radis-noir-legume-saison.png', 'Le salsifis': 'https://yuka.io/wp-content/uploads/salsifi-legume-saison.png'}\n",
      "{'Le kiwi': 'https://yuka.io/wp-content/uploads/kiwi-fruit-saison.png', 'Le pomelo': 'https://yuka.io/wp-content/uploads/pomelo-fruit-saison.png', 'La pomme': 'https://yuka.io/wp-content/uploads/pomme-fruit-saison.png', 'La rhubarbe': 'https://yuka.io/wp-content/uploads/rhubarbe-fruit-saison.png', 'L’asperge': 'https://yuka.io/wp-content/uploads/asperge-legume-saison.png', 'La blette': 'https://yuka.io/wp-content/uploads/blette-legume-saison-1.png', 'La carotte': 'https://yuka.io/wp-content/uploads/carotte-legume-saison.png', 'Le céleri rave (fin de saison)': 'https://yuka.io/wp-content/uploads/celeri-rave-legume-saison.png', 'Le chou vert': 'https://yuka.io/wp-content/uploads/chou-vert-legume-saison.png', 'L’endive': 'https://yuka.io/wp-content/uploads/endive-legume-saison.png', 'L’épinard': 'https://yuka.io/wp-content/uploads/epinard-legume-saison-1.png', 'Les fèves': 'https://yuka.io/wp-content/uploads/feves-legume-saison.png', 'La laitue': 'https://yuka.io/wp-content/uploads/laitue-legume-saison-1.png', 'Le navet': 'https://yuka.io/wp-content/uploads/navet-legume-saison.png', 'Le poireau': 'https://yuka.io/wp-content/uploads/poireau-legume-saison.png', 'Le radis': 'https://yuka.io/wp-content/uploads/radis-legume-saison-1.png'}\n",
      "{'La fraise': 'https://yuka.io/wp-content/uploads/fraise-fruit-saison.png', 'Le pomelo': 'https://yuka.io/wp-content/uploads/pomelo-fruit-saison.png', 'La rhubarbe': 'https://yuka.io/wp-content/uploads/rhubarbe-fruit-saison.png', 'L’artichaut': 'https://yuka.io/wp-content/uploads/artichaut-legume-saison.png', 'L’asperge': 'https://yuka.io/wp-content/uploads/asperge-legume-saison.png', 'La betterave': 'https://yuka.io/wp-content/uploads/betterave-legume-saison.png', 'La blette': 'https://yuka.io/wp-content/uploads/blette-legume-saison-1.png', 'Le concombre': 'https://yuka.io/wp-content/uploads/concombre-legume-saison-1.png', 'L’épinard': 'https://yuka.io/wp-content/uploads/epinard-legume-saison-1.png', 'Le fenouil': 'https://yuka.io/wp-content/uploads/fenouil-legume-saison-1.png', 'Les fèves': 'https://yuka.io/wp-content/uploads/feves-legume-saison.png', 'La laitue': 'https://yuka.io/wp-content/uploads/laitue-legume-saison-1.png', 'Le navet': 'https://yuka.io/wp-content/uploads/navet-legume-saison.png', 'Les petits pois': 'https://yuka.io/wp-content/uploads/petits-pois-legume-saison-3.png', 'Le radis': 'https://yuka.io/wp-content/uploads/radis-legume-saison-1.png'}\n",
      "{'La cerise': 'https://yuka.io/wp-content/uploads/cerise-fruit-saison-150x150-1.png', 'La fraise': 'https://yuka.io/wp-content/uploads/fraise-fruit-saison.png', 'La framboise': 'https://yuka.io/wp-content/uploads/framboise-fruit-saison.png', 'Le melon': 'https://yuka.io/wp-content/uploads/melon-fruit-saison.png', 'Le pomelo': 'https://yuka.io/wp-content/uploads/pomelo-fruit-saison.png', 'La rhubarbe': 'https://yuka.io/wp-content/uploads/rhubarbe-fruit-saison.png', 'La tomate': 'https://yuka.io/wp-content/uploads/tomate-fruit-saison.png', 'L’artichaut': 'https://yuka.io/wp-content/uploads/artichaut-legume-saison.png', 'L’asperge': 'https://yuka.io/wp-content/uploads/asperge-legume-saison.png', 'L’aubergine': 'https://yuka.io/wp-content/uploads/aubergine-legume-saison.png', 'La betterave': 'https://yuka.io/wp-content/uploads/betterave-legume-saison.png', 'La blette': 'https://yuka.io/wp-content/uploads/blette-legume-saison-1.png', 'Le brocoli': 'https://yuka.io/wp-content/uploads/brocoli-legume-saison.png', 'Le concombre': 'https://yuka.io/wp-content/uploads/concombre-legume-saison-1.png', 'La courgette': 'https://yuka.io/wp-content/uploads/courgette-legume-saison.png', 'Le fenouil': 'https://yuka.io/wp-content/uploads/fenouil-legume-saison-1.png', 'Les fèves': 'https://yuka.io/wp-content/uploads/feves-legume-saison.png', 'Les haricots verts': 'https://yuka.io/wp-content/uploads/haricots-verts-legume-saison.png', 'La laitue': 'https://yuka.io/wp-content/uploads/laitue-legume-saison-1.png', 'Les petits pois': 'https://yuka.io/wp-content/uploads/petits-pois-legume-saison-3.png', 'Le poivron': 'https://yuka.io/wp-content/uploads/poivron-legume-saison.png', 'Le radis': 'https://yuka.io/wp-content/uploads/radis-legume-saison-1.png'}\n",
      "{'L’abricot': 'https://yuka.io/wp-content/uploads/abricot-fruit-saison-1.png', 'La cerise': 'https://yuka.io/wp-content/uploads/cerise-fruit-saison-150x150-1.png', 'La figue': 'https://yuka.io/wp-content/uploads/figue-fruit-saison.png', 'La fraise': 'https://yuka.io/wp-content/uploads/fraise-fruit-saison.png', 'La framboise': 'https://yuka.io/wp-content/uploads/framboise-fruit-saison.png', 'La groseille': 'https://yuka.io/wp-content/uploads/groseille-fruit-saison.png', 'Le melon': 'https://yuka.io/wp-content/uploads/melon-fruit-saison.png', 'La myrtille': 'https://yuka.io/wp-content/uploads/myrtille-fruit-saison-copy.png', 'La nectarine': 'https://yuka.io/wp-content/uploads/nectarine-fruit-saison.png', 'La pastèque': 'https://yuka.io/wp-content/uploads/pasteque-fruit-saison.png', 'La pêche': 'https://yuka.io/wp-content/uploads/peche-fruit-saison.png', 'La poire d’été': 'https://yuka.io/wp-content/uploads/poire-fruit-saison.png', 'La prune': 'https://yuka.io/wp-content/uploads/prune-fruit-saison.png', 'La tomate': 'https://yuka.io/wp-content/uploads/tomate-fruit-saison.png', 'L’artichaut': 'https://yuka.io/wp-content/uploads/artichaut-legume-saison.png', 'L’aubergine': 'https://yuka.io/wp-content/uploads/aubergine-legume-saison.png', 'La betterave': 'https://yuka.io/wp-content/uploads/betterave-legume-saison.png', 'La blette': 'https://yuka.io/wp-content/uploads/blette-legume-saison-1.png', 'Le brocoli': 'https://yuka.io/wp-content/uploads/brocoli-legume-saison.png', 'Le céleri branche': 'https://yuka.io/wp-content/uploads/celeri-branche-legume-saison.png', 'Le concombre': 'https://yuka.io/wp-content/uploads/concombre-legume-saison-1.png', 'La courgette': 'https://yuka.io/wp-content/uploads/courgette-legume-saison.png', 'Le fenouil': 'https://yuka.io/wp-content/uploads/fenouil-legume-saison-1.png', 'Les haricots verts': 'https://yuka.io/wp-content/uploads/haricots-verts-legume-saison.png', 'La laitue': 'https://yuka.io/wp-content/uploads/laitue-legume-saison-1.png', 'Le maïs': 'https://yuka.io/wp-content/uploads/mais-legume-saison.png', 'Les petits pois': 'https://yuka.io/wp-content/uploads/petits-pois-legume-saison-3.png', 'Le poivron': 'https://yuka.io/wp-content/uploads/poivron-legume-saison.png', 'Le radis': 'https://yuka.io/wp-content/uploads/radis-legume-saison-1.png'}\n",
      "{'L’abricot': 'https://yuka.io/wp-content/uploads/abricot-fruit-saison-1.png', 'La figue': 'https://yuka.io/wp-content/uploads/figue-fruit-saison.png', 'La fraise': 'https://yuka.io/wp-content/uploads/fraise-fruit-saison.png', 'La framboise': 'https://yuka.io/wp-content/uploads/framboise-fruit-saison.png', 'La groseille': 'https://yuka.io/wp-content/uploads/groseille-fruit-saison.png', 'Le melon': 'https://yuka.io/wp-content/uploads/melon-fruit-saison.png', 'La mûre': 'https://yuka.io/wp-content/uploads/mure-fruit-saison.png', 'La myrtille': 'https://yuka.io/wp-content/uploads/myrtille-fruit-saison-copy.png', 'La nectarine': 'https://yuka.io/wp-content/uploads/nectarine-fruit-saison.png', 'La pastèque': 'https://yuka.io/wp-content/uploads/pasteque-fruit-saison.png', 'La pêche': 'https://yuka.io/wp-content/uploads/peche-fruit-saison.png', 'La poire d’été': 'https://yuka.io/wp-content/uploads/poire-fruit-saison.png', 'La prune': 'https://yuka.io/wp-content/uploads/prune-fruit-saison.png', 'La tomate': 'https://yuka.io/wp-content/uploads/tomate-fruit-saison.png', 'L’artichaut': 'https://yuka.io/wp-content/uploads/artichaut-legume-saison.png', 'L’aubergine': 'https://yuka.io/wp-content/uploads/aubergine-legume-saison.png', 'La betterave': 'https://yuka.io/wp-content/uploads/betterave-legume-saison.png', 'La blette': 'https://yuka.io/wp-content/uploads/blette-legume-saison-1.png', 'Le brocoli': 'https://yuka.io/wp-content/uploads/brocoli-legume-saison.png', 'Le céleri branche': 'https://yuka.io/wp-content/uploads/celeri-branche-legume-saison.png', 'Le concombre': 'https://yuka.io/wp-content/uploads/concombre-legume-saison-1.png', 'La courgette': 'https://yuka.io/wp-content/uploads/courgette-legume-saison.png', 'Le fenouil': 'https://yuka.io/wp-content/uploads/fenouil-legume-saison-1.png', 'Les haricots verts': 'https://yuka.io/wp-content/uploads/haricots-verts-legume-saison.png', 'La laitue': 'https://yuka.io/wp-content/uploads/laitue-legume-saison-1.png', 'Le maïs': 'https://yuka.io/wp-content/uploads/mais-legume-saison.png', 'Le poivron': 'https://yuka.io/wp-content/uploads/poivron-legume-saison.png', 'Le radis': 'https://yuka.io/wp-content/uploads/radis-legume-saison-1.png'}\n",
      "{'La figue': 'https://yuka.io/wp-content/uploads/figue-fruit-saison.png', 'La framboise': 'https://yuka.io/wp-content/uploads/framboise-fruit-saison.png', 'Le melon': 'https://yuka.io/wp-content/uploads/melon-fruit-saison.png', 'La mûre': 'https://yuka.io/wp-content/uploads/mure-fruit-saison.png', 'La myrtille': 'https://yuka.io/wp-content/uploads/myrtille-fruit-saison-copy.png', 'La pêche': 'https://yuka.io/wp-content/uploads/peche-fruit-saison.png', 'La poire d’automne / hiver': 'https://yuka.io/wp-content/uploads/poire-fruit-saison-1.png', 'La pomme': 'https://yuka.io/wp-content/uploads/pomme-fruit-saison.png', 'La prune': 'https://yuka.io/wp-content/uploads/prune-fruit-saison.png', 'Le raisin': 'https://yuka.io/wp-content/uploads/raisin-fruit-saison.png', 'La tomate': 'https://yuka.io/wp-content/uploads/tomate-fruit-saison.png', 'L’artichaut': 'https://yuka.io/wp-content/uploads/artichaut-legume-saison.png', 'L’aubergine': 'https://yuka.io/wp-content/uploads/aubergine-legume-saison.png', 'La betterave': 'https://yuka.io/wp-content/uploads/betterave-legume-saison.png', 'La blette': 'https://yuka.io/wp-content/uploads/blette-legume-saison-1.png', 'Le brocoli': 'https://yuka.io/wp-content/uploads/brocoli-legume-saison.png', 'Le céleri branche': 'https://yuka.io/wp-content/uploads/celeri-branche-legume-saison.png', 'Le chou-fleur': 'https://yuka.io/wp-content/uploads/chou-fleur-legume-saison.png', 'Le concombre': 'https://yuka.io/wp-content/uploads/concombre-legume-saison-1.png', 'La courgette': 'https://yuka.io/wp-content/uploads/courgette-legume-saison.png', 'Le fenouil': 'https://yuka.io/wp-content/uploads/fenouil-legume-saison-1.png', 'Les haricots verts': 'https://yuka.io/wp-content/uploads/haricots-verts-legume-saison.png', 'La laitue': 'https://yuka.io/wp-content/uploads/laitue-legume-saison-1.png', 'Le maïs': 'https://yuka.io/wp-content/uploads/mais-legume-saison.png', 'Le poivron': 'https://yuka.io/wp-content/uploads/poivron-legume-saison.png'}\n",
      "{'La châtaigne': 'https://yuka.io/wp-content/uploads/chataigne-fruit-saison-2.png', 'Le coing': 'https://yuka.io/wp-content/uploads/coing-fruit-saison.png', 'La figue': 'https://yuka.io/wp-content/uploads/figue-fruit-saison.png', 'La grenade': 'https://yuka.io/wp-content/uploads/grenade-fruit-saison.png', 'Le kaki': 'https://yuka.io/wp-content/uploads/kaki-fruit-saison.png', 'La poire d’automne / hiver': 'https://yuka.io/wp-content/uploads/poire-fruit-saison-1.png', 'La pomme': 'https://yuka.io/wp-content/uploads/pomme-fruit-saison.png', 'Le raisin': 'https://yuka.io/wp-content/uploads/raisin-fruit-saison.png', 'La betterave': 'https://yuka.io/wp-content/uploads/betterave-legume-saison.png', 'La blette': 'https://yuka.io/wp-content/uploads/blette-legume-saison-1.png', 'Le brocoli': 'https://yuka.io/wp-content/uploads/brocoli-legume-saison.png', 'La carotte': 'https://yuka.io/wp-content/uploads/carotte-legume-saison.png', 'Le céleri branche': 'https://yuka.io/wp-content/uploads/celeri-branche-legume-saison.png', 'Le céleri rave': 'https://yuka.io/wp-content/uploads/celeri-rave-legume-saison.png', 'Les choux de Bruxelles': 'https://yuka.io/wp-content/uploads/choux-de-bruxelles-legume-saison.png', 'Le chou-fleur': 'https://yuka.io/wp-content/uploads/chou-fleur-legume-saison.png', 'Le chou vert': 'https://yuka.io/wp-content/uploads/chou-vert-legume-saison.png', 'La courge butternut': 'https://yuka.io/wp-content/uploads/courge-butternut-legume-saison.png', 'Le fenouil': 'https://yuka.io/wp-content/uploads/fenouil-legume-saison-1.png', 'Le maïs': 'https://yuka.io/wp-content/uploads/mais-legume-saison.png', 'Le navet': 'https://yuka.io/wp-content/uploads/navet-legume-saison.png', 'Le poireau': 'https://yuka.io/wp-content/uploads/poireau-legume-saison.png', 'Le potiron': 'https://yuka.io/wp-content/uploads/potiron-legume-saison-1.png', 'Le salsifis': 'https://yuka.io/wp-content/uploads/salsifi-legume-saison.png'}\n",
      "{'La châtaigne': 'https://yuka.io/wp-content/uploads/chataigne-fruit-saison-2.png', 'La clémentine': 'https://yuka.io/wp-content/uploads/clémentine-fruit-saison.png', 'La grenade': 'https://yuka.io/wp-content/uploads/grenade-fruit-saison.png', 'Le kaki': 'https://yuka.io/wp-content/uploads/kaki-fruit-saison.png', 'La mandarine': 'https://yuka.io/wp-content/uploads/mandarine-fruit-saison.png', 'La poire d’automne / hiver': 'https://yuka.io/wp-content/uploads/poire-fruit-saison-1.png', 'La pomme': 'https://yuka.io/wp-content/uploads/pomme-fruit-saison.png', 'Le brocoli': 'https://yuka.io/wp-content/uploads/brocoli-legume-saison.png', 'La carotte': 'https://yuka.io/wp-content/uploads/carotte-legume-saison.png', 'Le céleri branche': 'https://yuka.io/wp-content/uploads/celeri-branche-legume-saison.png', 'Le céleri rave': 'https://yuka.io/wp-content/uploads/celeri-rave-legume-saison.png', 'Les choux de Bruxelles': 'https://yuka.io/wp-content/uploads/choux-de-bruxelles-legume-saison.png', 'Le chou-fleur': 'https://yuka.io/wp-content/uploads/chou-fleur-legume-saison.png', 'Le chou vert': 'https://yuka.io/wp-content/uploads/chou-vert-legume-saison.png', 'La courge butternut': 'https://yuka.io/wp-content/uploads/courge-butternut-legume-saison.png', 'L’endive': 'https://yuka.io/wp-content/uploads/endive-legume-saison.png', 'Le fenouil': 'https://yuka.io/wp-content/uploads/fenouil-legume-saison-1.png', 'La mâche': 'https://yuka.io/wp-content/uploads/mache-legume-saison.png', 'Le navet': 'https://yuka.io/wp-content/uploads/navet-legume-saison.png', 'Le poireau': 'https://yuka.io/wp-content/uploads/poireau-legume-saison.png', 'Le potiron': 'https://yuka.io/wp-content/uploads/potiron-legume-saison-1.png', 'Le radis noir': 'https://yuka.io/wp-content/uploads/radis-noir-legume-saison.png', 'Le rutabaga': 'https://yuka.io/wp-content/uploads/rutabaga-legume-saison.png', 'Le salsifis': 'https://yuka.io/wp-content/uploads/salsifi-legume-saison.png', 'Le topinambour': 'https://yuka.io/wp-content/uploads/topinambour-legume-saison.png'}\n",
      "{'La clémentine': 'https://yuka.io/wp-content/uploads/clémentine-fruit-saison.png', 'La grenade': 'https://yuka.io/wp-content/uploads/grenade-fruit-saison.png', 'Le kaki': 'https://yuka.io/wp-content/uploads/kaki-fruit-saison.png', 'Le kiwi': 'https://yuka.io/wp-content/uploads/kiwi-fruit-saison.png', 'La mandarine': 'https://yuka.io/wp-content/uploads/mandarine-fruit-saison.png', 'L’orange': 'https://yuka.io/wp-content/uploads/orange-fruit-saison.png', 'La poire d’automne / hiver': 'https://yuka.io/wp-content/uploads/poire-fruit-saison-1.png', 'La pomme': 'https://yuka.io/wp-content/uploads/pomme-fruit-saison.png', 'La carotte': 'https://yuka.io/wp-content/uploads/carotte-legume-saison.png', 'Le céleri rave': 'https://yuka.io/wp-content/uploads/celeri-rave-legume-saison.png', 'Les choux de Bruxelles': 'https://yuka.io/wp-content/uploads/choux-de-bruxelles-legume-saison.png', 'Le chou-fleur': 'https://yuka.io/wp-content/uploads/chou-fleur-legume-saison.png', 'Le chou vert': 'https://yuka.io/wp-content/uploads/chou-vert-legume-saison.png', 'La courge butternut': 'https://yuka.io/wp-content/uploads/courge-butternut-legume-saison.png', 'L’endive': 'https://yuka.io/wp-content/uploads/endive-legume-saison.png', 'La mâche': 'https://yuka.io/wp-content/uploads/mache-legume-saison.png', 'Le navet': 'https://yuka.io/wp-content/uploads/navet-legume-saison.png', 'Le panais': 'https://yuka.io/wp-content/uploads/panais-legume-saison.png', 'Le poireau': 'https://yuka.io/wp-content/uploads/poireau-legume-saison.png', 'Le potiron': 'https://yuka.io/wp-content/uploads/potiron-legume-saison-1.png', 'Le radis noir': 'https://yuka.io/wp-content/uploads/radis-noir-legume-saison.png', 'Le rutabaga': 'https://yuka.io/wp-content/uploads/rutabaga-legume-saison.png', 'Le salsifis': 'https://yuka.io/wp-content/uploads/salsifi-legume-saison.png', 'Le topinambour': 'https://yuka.io/wp-content/uploads/topinambour-legume-saison.png'}\n",
      "Scraping terminé.\n"
     ]
    }
   ],
   "source": [
    "import json\n",
    "\n",
    "def scrape_month(url):\n",
    "    page = requests.get(url)\n",
    "    soup = BeautifulSoup(page.content, 'html.parser')\n",
    "\n",
    "    fruit_divs = soup.find_all(\"div\", class_=\"wp-block-media-text\")\n",
    "    fruits = {}\n",
    "\n",
    "    for div in fruit_divs:\n",
    "        fruit_name = div.find(\"strong\").text.strip()\n",
    "        fruits[fruit_name] = div.find(\"img\")[\"src\"]\n",
    "\n",
    "    print(fruits)\n",
    "\n",
    "    return fruits\n",
    "\n",
    "months = [\"janvier\", \"fevrier\", \"mars\", \"avril\", \"mai\", \"juin\", \"juillet\", \"aout\", \"septembre\", \"octobre\", \"novembre\", \"decembre\"]\n",
    "base_url = \"https://yuka.io/fruits-legumes/\"\n",
    "\n",
    "for month in months:\n",
    "    url = f\"{base_url}{month}/\"\n",
    "    fruits = scrape_month(url)\n",
    "    with open(f\"{month}_fruits.json\", \"w\") as file:\n",
    "        json.dump(fruits, file)\n",
    "\n",
    "print(\"Scraping terminé.\")"
   ]
  },
  {
   "cell_type": "code",
   "execution_count": null,
   "metadata": {},
   "outputs": [],
   "source": []
  },
  {
   "cell_type": "code",
   "execution_count": null,
   "metadata": {},
   "outputs": [],
   "source": []
  }
 ],
 "metadata": {
  "kernelspec": {
   "display_name": "base",
   "language": "python",
   "name": "python3"
  },
  "language_info": {
   "codemirror_mode": {
    "name": "ipython",
    "version": 3
   },
   "file_extension": ".py",
   "mimetype": "text/x-python",
   "name": "python",
   "nbconvert_exporter": "python",
   "pygments_lexer": "ipython3",
   "version": "3.11.4"
  }
 },
 "nbformat": 4,
 "nbformat_minor": 2
}
