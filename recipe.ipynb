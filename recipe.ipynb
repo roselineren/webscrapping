{
 "cells": [
  {
   "cell_type": "code",
   "execution_count": 2,
   "metadata": {},
   "outputs": [],
   "source": [
    "import requests\n",
    "from bs4 import BeautifulSoup\n"
   ]
  },
  {
   "cell_type": "code",
   "execution_count": 3,
   "metadata": {},
   "outputs": [],
   "source": [
    "url='https://www.cuisinez-pour-bebe.fr/recettes-par-type/petits-pots-maison/'"
   ]
  },
  {
   "cell_type": "code",
   "execution_count": null,
   "metadata": {},
   "outputs": [],
   "source": [
    "from selenium  import webdriver\n"
   ]
  },
  {
   "cell_type": "code",
   "execution_count": 5,
   "metadata": {},
   "outputs": [
    {
     "name": "stdout",
     "output_type": "stream",
     "text": [
      "['https://www.cuisinez-pour-bebe.fr/compote-pomme-grenade/', 'https://www.cuisinez-pour-bebe.fr/flan-coco-vanille-ou-cacao/', 'https://www.cuisinez-pour-bebe.fr/pruneaux-lactes-au-lait-infantile/', 'https://www.cuisinez-pour-bebe.fr/creme-de-banane-au-lait-infantile/', 'https://www.cuisinez-pour-bebe.fr/lassi-mangue-au-lait-infantile/', 'https://www.cuisinez-pour-bebe.fr/pa%cc%82tes-bolognaise/', 'https://www.cuisinez-pour-bebe.fr/yaourts-maison/', 'https://www.cuisinez-pour-bebe.fr/riz-et-puree-de-butternut-au-colin/', 'https://www.cuisinez-pour-bebe.fr/puree-de-haricots-verts-2/', 'https://www.cuisinez-pour-bebe.fr/puree-daubergine/', 'https://www.cuisinez-pour-bebe.fr/puree-fine-depinards-2/', 'https://www.cuisinez-pour-bebe.fr/puree-fine-de-potimarron/', 'https://www.cuisinez-pour-bebe.fr/puree-fine-de-celeri-rave-2/', 'https://www.cuisinez-pour-bebe.fr/puree-de-carotte-et-navet/', 'https://www.cuisinez-pour-bebe.fr/puree-de-blanc-de-poireau/', 'https://www.cuisinez-pour-bebe.fr/puree-de-petits-pois/', 'https://www.cuisinez-pour-bebe.fr/puree-fine-de-fenouil/', 'https://www.cuisinez-pour-bebe.fr/soupe-de-concombre/', 'https://www.cuisinez-pour-bebe.fr/bouillie-aux-cereales-infantiles/', 'https://www.cuisinez-pour-bebe.fr/puree-de-navet/', 'https://www.cuisinez-pour-bebe.fr/veloute-carottes-fenouil-et-riz/', 'https://www.cuisinez-pour-bebe.fr/puree-de-ratatouille-et-semoule-fine/', 'https://www.cuisinez-pour-bebe.fr/puree-de-rutabaga-et-semoule-fine/', 'https://www.cuisinez-pour-bebe.fr/puree-de-salsifis-et-pommes-de-terre/']\n"
     ]
    }
   ],
   "source": [
    "import requests\n",
    "from bs4 import BeautifulSoup\n",
    "\n",
    "\n",
    "response = requests.get(url)\n",
    "if response.status_code == 200:\n",
    "    soup = BeautifulSoup(response.content, 'html.parser')\n",
    "    li_elements = soup.find_all('li', class_='ais-Hits-item')\n",
    "    links = [li.find('a')['href'] for li in li_elements if li.find('a')]\n",
    "    \n",
    "\n",
    "   "
   ]
  },
  {
   "cell_type": "code",
   "execution_count": null,
   "metadata": {},
   "outputs": [],
   "source": [
    "for link in links:\n",
    "    "
   ]
  },
  {
   "cell_type": "code",
   "execution_count": null,
   "metadata": {},
   "outputs": [],
   "source": []
  }
 ],
 "metadata": {
  "kernelspec": {
   "display_name": "base",
   "language": "python",
   "name": "python3"
  },
  "language_info": {
   "codemirror_mode": {
    "name": "ipython",
    "version": 3
   },
   "file_extension": ".py",
   "mimetype": "text/x-python",
   "name": "python",
   "nbconvert_exporter": "python",
   "pygments_lexer": "ipython3",
   "version": "3.11.4"
  }
 },
 "nbformat": 4,
 "nbformat_minor": 2
}
